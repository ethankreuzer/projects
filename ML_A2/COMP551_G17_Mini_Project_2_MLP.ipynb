{
  "nbformat": 4,
  "nbformat_minor": 0,
  "metadata": {
    "colab": {
      "provenance": [],
      "toc_visible": true
    },
    "kernelspec": {
      "name": "python3",
      "display_name": "Python 3"
    },
    "language_info": {
      "name": "python"
    },
    "accelerator": "GPU",
    "gpuClass": "standard"
  },
  "cells": [
    {
      "cell_type": "markdown",
      "source": [
        "# COMP 551 Mini Project 2\n",
        "* Yann Bourdé - 260838140\n",
        "* Marie Ezra Marin - 261053813\n",
        "* Ethan Kreuzer - 261050944"
      ],
      "metadata": {
        "id": "c_jjS3FFHaA8"
      }
    },
    {
      "cell_type": "markdown",
      "source": [
        "# Task 1: Acquire, preprocess, and analyze the data."
      ],
      "metadata": {
        "id": "l3SsiPyIHuRC"
      }
    },
    {
      "cell_type": "code",
      "source": [
        "import pandas as pd\n",
        "import numpy as np\n",
        "import matplotlib.pyplot as plt\n",
        "import pickle\n",
        "from skimage import io\n",
        "\n",
        "from google.colab import drive\n",
        "drive.mount('/content/drive')\n",
        "\n",
        "# Please update the path to the csv file according to your own location.\n",
        "path = \"/content/drive/MyDrive/McGill/COMP 551/Mini2/batches/\""
      ],
      "metadata": {
        "colab": {
          "base_uri": "https://localhost:8080/"
        },
        "id": "FMnciYXQHxf8",
        "outputId": "d152cd4a-6cd6-4249-b710-f5efe42c5ab8"
      },
      "execution_count": 1,
      "outputs": [
        {
          "output_type": "stream",
          "name": "stdout",
          "text": [
            "Mounted at /content/drive\n"
          ]
        }
      ]
    },
    {
      "cell_type": "code",
      "source": [
        "# Function to unpickle image files.\n",
        "def unpickle(file):\n",
        "    with open(file, 'rb') as fo:\n",
        "        dict = pickle.load(fo, encoding='bytes')\n",
        "    return dict\n",
        "# End of function."
      ],
      "metadata": {
        "id": "j6o-zEy-JOHo"
      },
      "execution_count": 2,
      "outputs": []
    },
    {
      "cell_type": "code",
      "source": [
        "# Function to convert the batch files to 1 large numpy with 10000, 32x32 colour images.\n",
        "def getimages(batch):\n",
        "  data = batch[b'data']\n",
        "  img = np.zeros((10000, 1, 32, 32, 3), dtype=int)\n",
        "  offset = 32\n",
        "  for j in range(10000):\n",
        "    for i in range(0, 32):\n",
        "      y = i*offset\n",
        "      img[j, 0, i, :, 0] = data[j, y:y+32]\n",
        "      img[j, 0, i, :, 1] = data[j, y+1024:y+1024+32]\n",
        "      img[j, 0, i, :, 2] = data[j, y+2048:y+2048+32]\n",
        "  return img\n",
        "# End of function."
      ],
      "metadata": {
        "id": "rPj9V_5GOYY-"
      },
      "execution_count": 3,
      "outputs": []
    },
    {
      "cell_type": "code",
      "source": [
        "# Get all input data into one numpy (and matching lables into another one).\n",
        "big_data = np.empty((10000, 1, 32, 32, 3), dtype=int)\n",
        "big_labels = np.empty((10000), dtype=int)\n",
        "for i in range(1, 6):\n",
        "  batch = unpickle(path + 'data_batch_'+ str(i))\n",
        "  np_labels = batch[b'labels']\n",
        "  big_labels = np.concatenate((big_labels, np_labels))\n",
        "  np_batch = getimages(batch)\n",
        "  big_data = np.concatenate((big_data, np_batch))\n",
        "big_data = np.delete(big_data, np.s_[0:10000], axis=0)\n",
        "big_labels = np.delete(big_labels, np.s_[0:10000], axis=0)"
      ],
      "metadata": {
        "id": "asRTVSFsJG27"
      },
      "execution_count": 4,
      "outputs": []
    },
    {
      "cell_type": "code",
      "source": [
        "# Show test image.\n",
        "img = big_data[0, 0]\n",
        "plt.figure(figsize=(12,12))\n",
        "plt.subplot(2, 2, 1)\n",
        "plt.imshow(img)\n",
        "plt.axis('off');"
      ],
      "metadata": {
        "colab": {
          "base_uri": "https://localhost:8080/",
          "height": 327
        },
        "id": "aTy3zGbmVlo4",
        "outputId": "11cb7d2d-50c9-4185-b772-caad3dcec51e"
      },
      "execution_count": 5,
      "outputs": [
        {
          "output_type": "display_data",
          "data": {
            "text/plain": [
              "<Figure size 864x864 with 1 Axes>"
            ],
            "image/png": "[encoded data removed]"
          },
          "metadata": {
            "needs_background": "light"
          }
        }
      ]
    },
    {
      "cell_type": "code",
      "source": [
        "# Get big_X. big_X is just used to display the images.\n",
        "big_X = np.empty((10000, 3072), dtype=int)\n",
        "for i in range(1, 6):\n",
        "  batch = unpickle(path + 'data_batch_'+ str(i))\n",
        "  np_batch = batch[b'data']\n",
        "  big_X = np.concatenate((big_X, np_batch))\n",
        "big_X = np.delete(big_X, np.s_[0:10000], axis=0)"
      ],
      "metadata": {
        "id": "kYweGtHRTyas"
      },
      "execution_count": 6,
      "outputs": []
    },
    {
      "cell_type": "code",
      "source": [
        "# Get all test data into one numpy (and matching labels into another one).\n",
        "test = unpickle(path + 'test_batch')\n",
        "np_test = test[b'data']\n",
        "test_labels = test[b'labels'] "
      ],
      "metadata": {
        "id": "9MxhRdvFoMxa"
      },
      "execution_count": 7,
      "outputs": []
    },
    {
      "cell_type": "code",
      "source": [
        "# Function that makes a N x number matrix for the labels. If the label is 7, then the column at index 7 will be be 1 and the other 0 (one hot encoded).\n",
        "def label(array, number):\n",
        "  new_labels = np.zeros((len(array), number))\n",
        "  for i in range(len(array)):\n",
        "    index = array[i]\n",
        "    new_labels[i,index] = 1\n",
        "  return new_labels\n",
        "# End of function."
      ],
      "metadata": {
        "id": "0DknW7WHMiiM"
      },
      "execution_count": 8,
      "outputs": []
    },
    {
      "cell_type": "code",
      "source": [
        "# Function for normalizing RGB values. It divides by 255. \n",
        "def normalize(train, test):\n",
        "  u = np.mean(train)\n",
        "  std = np.std(train)\n",
        "\n",
        "  norm_train = train\n",
        "  max = np.max(norm_train)\n",
        "  min = np.min(norm_train)\n",
        "\n",
        "  norm_train = (norm_train - np.min(norm_train))/(np.max(norm_train)-np.min(norm_train)) # Normalize\n",
        "  norm_train = norm_train * (1 - (-1)) + (-1) # Rescale [-1, 1]\n",
        "\n",
        "  norm_test = test\n",
        "  norm_test = (norm_test - np.min(norm_test))/(np.max(norm_test)-np.min(norm_test))\n",
        "  norm_test = norm_test * (1 - (-1)) + (-1)\n",
        "\n",
        "  return norm_train, norm_test\n",
        "# End of function."
      ],
      "metadata": {
        "id": "3taE4MIMT879"
      },
      "execution_count": 9,
      "outputs": []
    },
    {
      "cell_type": "code",
      "source": [
        "# Function that outputs the class number based on which index is 1. Opposite of 'label' function above.\n",
        "def getclasses(array):\n",
        "  N,D = array.shape\n",
        "  results = np.zeros((N))\n",
        "  for j in range(N):\n",
        "      i = np.argmax(array[j])\n",
        "      results[j] = i\n",
        "  return results\n",
        "# End of function."
      ],
      "metadata": {
        "id": "s1T8NvsRocDk"
      },
      "execution_count": 10,
      "outputs": []
    },
    {
      "cell_type": "code",
      "source": [
        "# Format labels for training.\n",
        "big_labels_new = label(big_labels, 10)\n",
        "\n",
        "# Normalize dataset.\n",
        "big_X_norm, test_norm = normalize(big_X, np_test)"
      ],
      "metadata": {
        "id": "QrMmXSukC-RN"
      },
      "execution_count": 59,
      "outputs": []
    },
    {
      "cell_type": "markdown",
      "source": [
        "# Task 2: Implement a Multilayer Perceptron."
      ],
      "metadata": {
        "id": "opvF-niSHxFb"
      }
    },
    {
      "cell_type": "code",
      "source": [
        "# Define activation functions.\n",
        "from numpy.ma.core import tanh\n",
        "# Define activation functions.\n",
        "logistic = lambda z: 1./ (1 + np.exp(-z))\n",
        "deriv_log = lambda z: z*(1-z)\n",
        "activation_ReLU = (lambda x: x*(x > 0))\n",
        "deriv_ReLU = (lambda x: 1 * (x>0))\n",
        "activation_tanh = (lambda x: tanh(x))\n",
        "deriv_tanh = (lambda x: 1-activation_tanh(x)**2)"
      ],
      "metadata": {
        "id": "CK3-ubR5aPh1"
      },
      "execution_count": 11,
      "outputs": []
    },
    {
      "cell_type": "code",
      "source": [
        "# Leaky ReLU. \n",
        "def activation_leaky_ReLU(x):\n",
        "  x = np.where(x > 0, x, 0.01*x)\n",
        "  return x"
      ],
      "metadata": {
        "id": "JEbwdHHeLPB1"
      },
      "execution_count": 12,
      "outputs": []
    },
    {
      "cell_type": "code",
      "source": [
        "# Derivative of leaky ReLU.\n",
        "def deriv_leaky_ReLU(x):\n",
        "  x = np.where(x > 0, 1, 0.01)\n",
        "  return x"
      ],
      "metadata": {
        "id": "58FWoCsXLTLb"
      },
      "execution_count": 13,
      "outputs": []
    },
    {
      "cell_type": "code",
      "source": [
        "# Softmax implementation.\n",
        "def softmax(x):\n",
        "  try:\n",
        "    row, col = x.shape\n",
        "    softmax = np.zeros((row, col))\n",
        "    for i in range(row):\n",
        "      softmax[i] = np.exp(x[i] - np.max(x[i])) / np.sum(np.exp(x[i] - np.max(x[i])))\n",
        "    return softmax\n",
        "  except:\n",
        "    return np.exp(x - np.max(x)) / np.sum(np.exp(x - np.max(x)))"
      ],
      "metadata": {
        "id": "cpPnQ-4PvHe7"
      },
      "execution_count": 14,
      "outputs": []
    },
    {
      "cell_type": "code",
      "source": [
        "# Computes the derivative of the softmax function. Output is N x N.\n",
        "def d_soft(softmax, N, err):\n",
        "  d_softmax_big = np.zeros((N,10))\n",
        "  for i in range(N):\n",
        "    softmax_row = np.reshape(softmax[i, :], (1, -1)) # Grab row and reshape as 1x10.\n",
        "    d_softmax = (softmax_row * np.identity(softmax_row.size) - softmax_row.transpose() @ softmax_row)\n",
        "    delta = err[i, :] @ d_softmax\n",
        "    d_softmax_big[i] = delta\n",
        "    # d_softmax_big[i] = d_softmax\n",
        "  return d_softmax_big"
      ],
      "metadata": {
        "id": "2BNMVJ0jvGqI"
      },
      "execution_count": 15,
      "outputs": []
    },
    {
      "cell_type": "code",
      "source": [
        "# Function to evaluate the prediction accuracy.\n",
        "def evaluate_acc(pred, truth):\n",
        "  cnt = 0\n",
        "  for i in range(len(pred)):\n",
        "    if pred[i] == truth[i]:\n",
        "      cnt = cnt + 1\n",
        "  acc = cnt/len(pred)\n",
        "  return acc"
      ],
      "metadata": {
        "id": "BEDz87mt4B1L"
      },
      "execution_count": 124,
      "outputs": []
    },
    {
      "cell_type": "markdown",
      "source": [
        "Class MLP desciption (PLEASE READ)\n",
        "\n",
        "This class is composed of 7 different functions and below is a description for all of them:\n",
        "\n",
        "- *cross_entropy*: this function computes categorical cross entropy loss.\n",
        "- *cross_E_grad*: this function computes the derivative of categorical cross entropy loss.\n",
        "- *getbatches*: this function creates batches based on the indicated batch size.\n",
        "- *GD*: this function computes the gradient descent part of the class. This is where iterations take place and where the weights get updated. It is also used to record useful metrics and compute accuracy per epoch if required.\n",
        "  - Each epoch iterates through all randomly created batches and update the weights.\n",
        "- ***gradient***: this function is were the forward and backpropagation part happen. \n",
        "  - There are 3 sections, one for each layer (0, 1 and 2). \n",
        "  - Each section has a bias=True part and bias=False part.\n",
        "  - In each bias part, we first compute a forward pass with the current weights.\n",
        "  - Then we compute the error and proceed through the backpropagation algorithm to obtain the changes for the weights.\n",
        "  - Each section has conditional statements for various otpimization paramters such as L1/L2 regularization and dropout.\n",
        "- *fit*: this function initializes the weights and biases based on the number of layers requested and calls the *GD* function.\n",
        "- *predict*: this function implements a forward pass using the current weights of the model to calculate the predictions."
      ],
      "metadata": {
        "id": "lm5t2C1v716n"
      }
    },
    {
      "cell_type": "code",
      "source": [
        "class MLP:\n",
        "  def __init__(self, add_bias=True, layer_num=1, M=256, batch_size=32, learning_rate=.01, max_iters=1e4, epsilon=1e-8, activation = activation_ReLU, is_stochastic=False, l1=0, l2=0, momentum=0, drop=0, acc=False, predic_test=test_norm, truth_test=test_labels, predic_train=big_X_norm, truth_train=big_labels):\n",
        "    self.add_bias = add_bias\n",
        "    self.layer_num = layer_num\n",
        "    self.M = M\n",
        "    self.batch_size = batch_size\n",
        "    self.learning_rate = learning_rate\n",
        "    self.max_iters = max_iters\n",
        "    self.epsilon = epsilon\n",
        "    self.params = []\n",
        "    self.bias = []\n",
        "    self.activation = activation\n",
        "    self.deriv = (\n",
        "        deriv_ReLU if activation_ReLU == activation_ReLU \n",
        "        else deriv_log if activation==logistic\n",
        "        else deriv_leaky_ReLU if activation == activation_leaky_ReLU\n",
        "        else deriv_tanh if activation==activation_tanh \n",
        "        else None\n",
        "    )\n",
        "    self.is_stochastic = is_stochastic\n",
        "    self.loss = 0\n",
        "    self.dloss = 0\n",
        "    self.l1 = l1\n",
        "    self.l2 = l2\n",
        "    self.momentum = momentum;\n",
        "    self.update = []\n",
        "    self.bdate = []\n",
        "    self.drop = drop\n",
        "    self.loss_list = []\n",
        "    self.acc = acc\n",
        "    self.predic_test = predic_test\n",
        "    self.predic_train = predic_train\n",
        "    self.truth_test = truth_test\n",
        "    self.truth_train = truth_train\n",
        "    self.accuracy_list_test = []\n",
        "    self.accuracy_list_train = []\n",
        "    pass\n",
        "\n",
        "  def cross_entropy(self, yh, y):\n",
        "    self.loss = -np.sum(y * np.log(yh + 10**-100))/(len(yh))\n",
        "    # print(self.loss)\n",
        "    return self\n",
        "\n",
        "  def cross_E_grad(self, yh, y):\n",
        "    loss = -y/(yh + 10**-100)\n",
        "    return loss\n",
        "\n",
        "  def getbatches(self, x, y):\n",
        "    N,D = x.shape\n",
        "    x_list = []\n",
        "    y_list = []\n",
        "    number = int(N/self.batch_size)\n",
        "    if self.is_stochastic:\n",
        "      nx,dx = x.shape\n",
        "      xy = np.column_stack((x,y))\n",
        "      np.random.shuffle(xy)\n",
        "      x = xy[:,:D]\n",
        "      y = xy[:,D:]\n",
        "    for i in range(number):\n",
        "      batch_x = x[i*self.batch_size:i*self.batch_size+self.batch_size, :]\n",
        "      x_list.append(batch_x)\n",
        "      batch_y = y[i*self.batch_size:i*self.batch_size+self.batch_size, :]\n",
        "      y_list.append(batch_y)\n",
        "    return x_list, y_list \n",
        "\n",
        "  def GD(self, x, y):\n",
        "    x_list, y_list = (None, None)\n",
        "    if not self.is_stochastic:\n",
        "      x_list, y_list = self.getbatches(x, y)\n",
        "    norms = np.array([np.inf])\n",
        "    initial_rate = self.learning_rate\n",
        "    t = 0\n",
        "    while t < self.max_iters:\n",
        "      self.learning_rate = initial_rate/(1+(t/10))\n",
        "      if self.is_stochastic:\n",
        "        x_list, y_list = self.getbatches(x, y)\n",
        "      for i in range(len(x_list)):\n",
        "        x_b = x_list[i]\n",
        "        y_b = y_list[i]\n",
        "        if self.add_bias:\n",
        "          grad, bias = self.gradient(x_b, y_b)\n",
        "        else:\n",
        "          grad, bias = self.gradient(x_b, y_b)\n",
        "        for p in range(len(self.params)):\n",
        "          if self.momentum != 0:\n",
        "            update = -1.0*self.learning_rate * grad[p] + self.momentum * self.update[p]\n",
        "            self.params[p] -= self.learning_rate * grad[p] + self.momentum * update\n",
        "          else:\n",
        "            self.params[p] -= self.learning_rate * grad[p]\n",
        "\n",
        "          if self.add_bias:\n",
        "            if self.momentum !=0:\n",
        "              update = -1.0*self.learning_rate * bias[p] + self.momentum * self.bdate[p]\n",
        "              self.bias[p] -= self.learning_rate * bias[p] + self.momentum * update\n",
        "            else:\n",
        "              self.bias[p] -= self.learning_rate * bias[p]\n",
        "\n",
        "        if self.loss <= self.epsilon:\n",
        "          return self\n",
        "      t += 1\n",
        "      self.loss_list.append(self.loss)\n",
        "\n",
        "      if self.acc:\n",
        "        predictions_test = self.predict(self.predic_test)\n",
        "        predictions_train = self.predict(self.predic_train)\n",
        "        predictions_test = getclasses(predictions_test)\n",
        "        predictions_train = getclasses(predictions_train)\n",
        "        accuracy_test = evaluate_acc(predictions_test, self.truth_test)*100\n",
        "        accuracy_train = evaluate_acc(predictions_train, self.truth_train)*100\n",
        "        self.accuracy_list_test.append(accuracy_test)\n",
        "        self.accuracy_list_train.append(accuracy_train)\n",
        "      # print(self.learning_rate)\n",
        "    return self\n",
        "        \n",
        "  def gradient(self, x, y):\n",
        "    N,D = x.shape\n",
        "    d_bias = []\n",
        "    # Three cases.\n",
        "\n",
        "    #### 0 LAYER ####\n",
        "    if self.layer_num == 0:\n",
        "      w = self.params[0]\n",
        "      if self.add_bias:\n",
        "        ## Forward pass.\n",
        "        b = self.bias[0]\n",
        "        yh = softmax(np.dot(x, w) + b)\n",
        "\n",
        "        ## Backpropagation\n",
        "        # err_y = yh - y\n",
        "        err_y = self.cross_E_grad(yh, y)\n",
        "        delta_y = d_soft(yh, N, err_y)\n",
        "        change_w = np.dot(x.T, delta_y)/N\n",
        "        change_b = np.sum(delta_y, axis=0, keepdims=True)\n",
        "\n",
        "        # Apply regularization.\n",
        "        if self.l1 != 0:\n",
        "          change_w = change_w + self.l1 * (w /(abs(w) + 10**-100)) \n",
        "        if self.l2 != 0:\n",
        "          change_w = change_w + self.l2 * 2 * w \n",
        "\n",
        "        d_params = [change_w]\n",
        "        d_bias = [change_b]\n",
        "      else:\n",
        "        ## Forward pass.\n",
        "        yh = softmax(np.dot(x, w))\n",
        "\n",
        "        ## Backpropagation\n",
        "        # err_y = yh - y\n",
        "        err_y = self.cross_E_grad(yh, y)\n",
        "        delta_y = d_soft(yh, N, err_y)\n",
        "        change_w = np.dot(x.T, delta_y)/N\n",
        "\n",
        "        if self.l1 != 0:\n",
        "          change_w = change_w + self.l1 * (w /(abs(w) + 10**-100)) \n",
        "        if self.l2 != 0:\n",
        "          change_w = change_w + self.l2 * 2 * w \n",
        "\n",
        "        d_params = [change_w]\n",
        "\n",
        "    #### 1 LAYER ####\n",
        "    elif self.layer_num == 1:\n",
        "      v, w = self.params\n",
        "      if self.add_bias:\n",
        "        bv, bw = self.bias\n",
        "        ## Forward pass.\n",
        "        z = self.activation(np.dot(x, v) + bv)\n",
        "        if self.drop != 0:\n",
        "          U1 = (np.random.rand(*z.shape) < self.drop) / self.drop\n",
        "          z *= U1 # drop!\n",
        "        yh = softmax(np.dot(z, w) + bw)\n",
        "\n",
        "        ## Backpropagation\n",
        "        # err_y = yh - y\n",
        "        err_y = self.cross_E_grad(yh, y)\n",
        "        delta_y = d_soft(yh, N, err_y)\n",
        "        change_w = np.dot(z.T, delta_y)/N\n",
        "        change_bw = np.sum(delta_y, axis=0, keepdims=True)\n",
        "\n",
        "        # Apply regularization.\n",
        "        if self.l1 != 0:\n",
        "          change_w = change_w + self.l1 * (w /(abs(w) + 10**-100)) \n",
        "        if self.l2 != 0:\n",
        "          change_w = change_w + self.l2 * 2 * w \n",
        "      \n",
        "        err_z = np.dot(delta_y, w.T)\n",
        "        delta_z = err_z * self.deriv(z)\n",
        "        change_v = np.dot(x.T, delta_z)/N\n",
        "        change_bv = np.sum(delta_z, axis=0, keepdims=True)\n",
        "\n",
        "        # Apply regularization.\n",
        "        if self.l2 != 0:\n",
        "          change_v = change_v + self.l2 * 2 * v \n",
        "\n",
        "        d_params = [change_v, change_w]\n",
        "        d_bias = [change_bv, change_bw]\n",
        "\n",
        "      else:\n",
        "        ## Forward pass.\n",
        "        z = self.activation(np.dot(x, v))\n",
        "        if self.drop != 0:\n",
        "          U1 = (np.random.rand(*z.shape) < self.drop) / self.drop\n",
        "          z *= U1 # drop!\n",
        "        yh = softmax(np.dot(z, w))\n",
        "\n",
        "        ## Backpropagation\n",
        "        # err_y = yh - y\n",
        "        err_y = self.cross_E_grad(yh, y)\n",
        "        delta_y = d_soft(yh, N, err_y)\n",
        "        change_w = np.dot(z.T, delta_y)/N\n",
        "\n",
        "        # Apply regularization.\n",
        "        if self.l1 != 0:\n",
        "          change_w = change_w + self.l1 * (w /(abs(w) + 10**-100)) \n",
        "        if self.l2 != 0:\n",
        "          change_w = change_w + self.l2 * 2 * w \n",
        "      \n",
        "        err_z = np.dot(delta_y, w.T)\n",
        "        delta_z = err_z * self.deriv(z)\n",
        "        change_v = np.dot(x.T, delta_z)/N\n",
        "\n",
        "        # Apply regularization.\n",
        "        if self.l2 != 0:\n",
        "          change_v = change_v + self.l2 * 2 * v \n",
        "        \n",
        "        d_params = [change_v, change_w]\n",
        "\n",
        "    #### 2 LAYER ####\n",
        "    elif self.layer_num == 2:\n",
        "      v0, v, w = self.params\n",
        "      if self.add_bias:\n",
        "        bv1, bv2, bw = self.bias\n",
        "        ## Forward pass.\n",
        "        z0 = self.activation(np.dot(x, v0) + bv1)\n",
        "        if self.drop != 0:\n",
        "          U1 = (np.random.rand(*z0.shape) < self.drop) / self.drop\n",
        "          z0 *= U1 # drop!  \n",
        "        z = self.activation(np.dot(z0, v) + bv2)\n",
        "        if self.drop != 0:\n",
        "          U2 = (np.random.rand(*z.shape) < self.drop) / self.drop\n",
        "          z *= U2 # drop\n",
        "        yh = softmax(np.dot(z, w) + bw)\n",
        "\n",
        "        ## Backpropagation\n",
        "        # err_y = yh - y\n",
        "        err_y = self.cross_E_grad(yh, y)\n",
        "        delta_y = d_soft(yh, N, err_y)\n",
        "        change_w = np.dot(z.T, delta_y)/N\n",
        "        change_bw = np.sum(delta_y, axis=0, keepdims=True)\n",
        "\n",
        "        # Apply regularization.\n",
        "        if self.l1 != 0:\n",
        "          change_w = change_w + self.l1 * (w /(abs(w) + 10**-100)) \n",
        "        if self.l2 != 0:\n",
        "          change_w = change_w + self.l2 * 2 * w \n",
        "      \n",
        "        err_z = np.dot(delta_y, w.T)\n",
        "        delta_z = err_z * self.deriv(z)\n",
        "        change_v = np.dot(z0.T, delta_z)/N\n",
        "        change_bv2 = np.sum(delta_z, axis=0, keepdims=True)\n",
        "\n",
        "        # Apply regularization.\n",
        "        if self.l1 != 0:\n",
        "          change_v = change_v + self.l1 * (v /(abs(v) + 10**-100)) \n",
        "        if self.l2 != 0:\n",
        "          change_v = change_v + self.l2 * 2 * v \n",
        "\n",
        "        err_z0 = np.dot(delta_z, v.T)\n",
        "        delta_z0 = err_z0 * self.deriv(z0)\n",
        "        change_v0 = np.dot(x.T, delta_z0)/N\n",
        "        change_bv1 = np.sum(delta_z0, axis=0, keepdims=True)\n",
        "\n",
        "        if self.l2 != 0:\n",
        "          change_v0 = change_v0 + self.l2 * 2 * v0 \n",
        "        \n",
        "        d_params = [change_v0, change_v, change_w]\n",
        "        d_bias = [change_bv1, change_bv2, change_bw]\n",
        "      else:\n",
        "        ## Forward pass.\n",
        "        z0 = self.activation(np.dot(x, v0))\n",
        "        if self.drop != 0:\n",
        "          U1 = (np.random.rand(*z0.shape) < self.drop) / self.pdrop\n",
        "          z0 *= U1 # drop!  \n",
        "        z = self.activation(np.dot(z0, v))\n",
        "        if self.drop != 0:\n",
        "          U2 = (np.random.rand(*z.shape) < self.drop) / self.drop\n",
        "          z *= U2 # drop\n",
        "        yh = softmax(np.dot(z, w))\n",
        "\n",
        "        ## Backpropagation\n",
        "        # err_y = yh - y\n",
        "        err_y = self.cross_E_grad(yh, y)\n",
        "        delta_y = d_soft(yh, N, err_y)\n",
        "        change_w = np.dot(z.T, delta_y)/N\n",
        "\n",
        "        # Apply regularization.\n",
        "        if self.l1 != 0:\n",
        "          change_w = change_w + self.l1 * (w /(abs(w) + 10**-100)) \n",
        "        if self.l2 != 0:\n",
        "          change_w = change_w + self.l2 * 2 * w \n",
        "      \n",
        "        err_z = np.dot(delta_y, w.T)\n",
        "        delta_z = err_z * self.deriv(z)\n",
        "        change_v = np.dot(z0.T, delta_z)/N\n",
        "\n",
        "        # Apply regularization.\n",
        "        if self.l1 != 0:\n",
        "          change_v = change_v + self.l1 * (v /(abs(v) + 10**-100)) \n",
        "        if self.l2 != 0:\n",
        "          change_v = change_v + self.l2 * 2 * v \n",
        "\n",
        "        err_z0 = np.dot(delta_z, v.T)\n",
        "        delta_z0 = err_z0 * self.deriv(z0)\n",
        "        change_v0 = np.dot(x.T, delta_z0)/N\n",
        "\n",
        "        if self.l2 != 0:\n",
        "          change_v0 = change_v0 + self.l2 * 2 * v0 \n",
        "        \n",
        "        d_params = [change_v0, change_v, change_w]\n",
        "\n",
        "    self.cross_entropy(yh, y)\n",
        "    return d_params, d_bias\n",
        "\n",
        "\n",
        "  def fit(self, x, y):\n",
        "    N,D = x.shape\n",
        "    # Three possible cases, no hidden, 1 hidden, 2 hidden.\n",
        "    if self.layer_num == 0:\n",
        "      w = np.random.randn(D, 10) * np.sqrt(2/D)\n",
        "      self.params = [w]\n",
        "      if self.add_bias:\n",
        "        b = np.zeros((1,10))\n",
        "        self.bias = [b]\n",
        "        update_b = np.zeros(b.shape)\n",
        "        self.bdate = [update_b]\n",
        "      update_w = np.zeros(w.shape)\n",
        "      self.update = [update_w]\n",
        "\n",
        "    elif self.layer_num == 1:\n",
        "      w = np.random.randn(self.M, 10) * np.sqrt(2/self.M)\n",
        "      v = np.random.randn(D,self.M) * np.sqrt(2/D)\n",
        "      self.params = [v,w]\n",
        "      if self.add_bias:\n",
        "        bw = np.zeros((1,10))\n",
        "        bv = np.zeros((1,self.M))\n",
        "        self.bias = [bv, bw]\n",
        "        update_bw = np.zeros(bw.shape)\n",
        "        update_bv = np.zeros(bv.shape)\n",
        "        self.bdate = [update_bv, update_bw]\n",
        "      update_w = np.zeros(w.shape)\n",
        "      update_v = np.zeros(v.shape)\n",
        "      self.update = [update_v, update_w]\n",
        "\n",
        "    elif self.layer_num == 2:\n",
        "      w = np.random.randn(self.M, 10) * np.sqrt(2/self.M)\n",
        "      v2 = np.random.randn(self.M,self.M) * np.sqrt(2/self.M)\n",
        "      v1 = np.random.randn(D,self.M) * np.sqrt(2/D)\n",
        "      self.params = [v1,v2,w]\n",
        "      if self.add_bias:\n",
        "        bw = np.zeros((1,10))\n",
        "        bv2 = np.zeros((1,self.M))\n",
        "        bv1 = np.zeros((1,self.M))\n",
        "        self.bias = [bv1, bv2, bw]\n",
        "        update_bw = np.zeros(bw.shape)\n",
        "        update_bv2 = np.zeros(bv2.shape)\n",
        "        update_bv1 = np.zeros(bv1.shape)\n",
        "        self.bdate = [update_bv1, update_bv2, update_bw]\n",
        "      update_w = np.zeros(w.shape)\n",
        "      update_v2 = np.zeros(v2.shape)\n",
        "      update_v1 = np.zeros(v1.shape)\n",
        "      self.update = [update_v1, update_v2, update_w]\n",
        "    self.GD(x, y)\n",
        "    return self\n",
        "\n",
        "  def predict(self, x):\n",
        "    N,D = x.shape\n",
        "    output = np.zeros((N,10))\n",
        "    if self.layer_num == 0:\n",
        "      w = self.params[0]\n",
        "      if self.add_bias:\n",
        "        b = self.bias[0]\n",
        "        yh = softmax(np.dot(x, w) + b)\n",
        "      else:\n",
        "        yh = softmax(np.dot(x, w))\n",
        "    elif self.layer_num == 1:\n",
        "      v, w = self.params\n",
        "      if self.add_bias:\n",
        "        bv, bw = self.bias\n",
        "        z = self.activation(np.dot(x, v) + bv)\n",
        "        yh = softmax(np.dot(z, w) + bw)\n",
        "      else:\n",
        "        z = self.activation(np.dot(x, v))\n",
        "        yh = softmax(np.dot(z, w))\n",
        "    elif self.layer_num == 2:\n",
        "      v1, v2, w = self.params\n",
        "      if self.add_bias:\n",
        "        bv1, bv2, bw = self.bias\n",
        "        z1 = self.activation(np.dot(x, v1) + bv1)\n",
        "        z2 = self.activation(np.dot(z1, v2) + bv2)\n",
        "        yh = softmax(np.dot(z2, w) + bw)\n",
        "      else:\n",
        "        z1 = self.activation(np.dot(x, v1))\n",
        "        z2 = self.activation(np.dot(z1, v2))\n",
        "        yh = softmax(np.dot(z2, w)) \n",
        "    return yh"
      ],
      "metadata": {
        "id": "pzX8uFiiPWhy"
      },
      "execution_count": 125,
      "outputs": []
    },
    {
      "cell_type": "markdown",
      "source": [
        "# Task 3: Run the experiments."
      ],
      "metadata": {
        "id": "ekGsYS3zH-yg"
      }
    },
    {
      "cell_type": "code",
      "source": [
        "# Format labels for training.\n",
        "big_labels_new = label(big_labels, 10)\n",
        "\n",
        "# Normalize dataset.\n",
        "big_X_norm, test_norm = normalize(big_X, np_test)"
      ],
      "metadata": {
        "id": "fSL5hUG1WRLi"
      },
      "execution_count": 26,
      "outputs": []
    },
    {
      "cell_type": "code",
      "source": [
        "batch_size_global = 16\n",
        "iterations_global = 10"
      ],
      "metadata": {
        "id": "sui9Fd7ibUJR"
      },
      "execution_count": 79,
      "outputs": []
    },
    {
      "cell_type": "markdown",
      "source": [
        "## Experiment 1"
      ],
      "metadata": {
        "id": "4KXNu7GoVqgG"
      }
    },
    {
      "cell_type": "code",
      "source": [
        "model0 = MLP(layer_num = 0, batch_size = batch_size_global, activation = activation_ReLU, is_stochastic=True, add_bias=True, max_iters=iterations_global, learning_rate=.01, M=256, l1=0, l2=0, momentum=0, drop=0)\n",
        "model1 = MLP(layer_num = 1, batch_size = batch_size_global, activation = activation_ReLU, is_stochastic=True, add_bias=True, max_iters=iterations_global, learning_rate=.01, M=256, l1=0, l2=0, momentum=0, drop=0)\n",
        "model2 = MLP(layer_num = 2, batch_size = batch_size_global, activation = activation_ReLU, is_stochastic=True, add_bias=True, max_iters=iterations_global, learning_rate=.01, M=256, l1=0, l2=0, momentum=0, drop=0)"
      ],
      "metadata": {
        "id": "ACFrgcQfVtgm"
      },
      "execution_count": 29,
      "outputs": []
    },
    {
      "cell_type": "code",
      "source": [
        "model0.fit(big_X_norm, big_labels_new)"
      ],
      "metadata": {
        "colab": {
          "base_uri": "https://localhost:8080/"
        },
        "id": "gAHyWrUcWOyR",
        "outputId": "0c55c170-5f74-4a4c-f46a-1671960b6c87"
      },
      "execution_count": 30,
      "outputs": [
        {
          "output_type": "execute_result",
          "data": {
            "text/plain": [
              "<__main__.MLP at 0x7f278f4732e0>"
            ]
          },
          "metadata": {},
          "execution_count": 30
        }
      ]
    },
    {
      "cell_type": "code",
      "source": [
        "model1.fit(big_X_norm, big_labels_new)"
      ],
      "metadata": {
        "colab": {
          "base_uri": "https://localhost:8080/"
        },
        "id": "PE6b51lyWkN5",
        "outputId": "7cb4cc44-26da-4f3b-8d59-ada20b4d4453"
      },
      "execution_count": 31,
      "outputs": [
        {
          "output_type": "execute_result",
          "data": {
            "text/plain": [
              "<__main__.MLP at 0x7f278f4735b0>"
            ]
          },
          "metadata": {},
          "execution_count": 31
        }
      ]
    },
    {
      "cell_type": "code",
      "source": [
        "model2.fit(big_X_norm, big_labels_new)"
      ],
      "metadata": {
        "colab": {
          "base_uri": "https://localhost:8080/"
        },
        "id": "oDgqcfc4WkSm",
        "outputId": "43752f13-1b0b-4ec1-8dc0-6297e02cf257"
      },
      "execution_count": 32,
      "outputs": [
        {
          "output_type": "execute_result",
          "data": {
            "text/plain": [
              "<__main__.MLP at 0x7f278f473dc0>"
            ]
          },
          "metadata": {},
          "execution_count": 32
        }
      ]
    },
    {
      "cell_type": "code",
      "source": [
        "pred0 = model0.predict(test_norm)\n",
        "pred1 = model1.predict(test_norm)\n",
        "pred2 = model2.predict(test_norm)"
      ],
      "metadata": {
        "id": "A6G3aWFiV-sE"
      },
      "execution_count": 33,
      "outputs": []
    },
    {
      "cell_type": "code",
      "source": [
        "pred0c = getclasses(pred0)\n",
        "pred1c = getclasses(pred1)\n",
        "pred2c = getclasses(pred2)\n",
        "\n",
        "acc0 = evaluate_acc(pred0c, test_labels)\n",
        "acc1 = evaluate_acc(pred1c, test_labels)\n",
        "acc2 = evaluate_acc(pred2c, test_labels)\n",
        "\n",
        "print(\"Accuracy of 0 layers with M=256, ReLU: \", acc0*100, \"%\")\n",
        "print(\"Accuracy of 1 layers with M=256, ReLU: \", acc1*100, \"%\")\n",
        "print(\"Accuracy of 2 layers with M=256, ReLU: \", acc2*100, \"%\")"
      ],
      "metadata": {
        "colab": {
          "base_uri": "https://localhost:8080/"
        },
        "id": "Ts5OA4ISWGUe",
        "outputId": "4e1d0abc-581a-46a0-f1e4-1c5fff0474d2"
      },
      "execution_count": 127,
      "outputs": [
        {
          "output_type": "stream",
          "name": "stdout",
          "text": [
            "Accuracy of 0 layers with M=256, ReLU:  39.300000000000004 %\n",
            "Accuracy of 1 layers with M=256, ReLU:  53.16 %\n",
            "Accuracy of 2 layers with M=256, ReLU:  53.14 %\n"
          ]
        }
      ]
    },
    {
      "cell_type": "code",
      "source": [
        "plt.plot(model0.loss_list, \"-b\", label=\"Loss\")\n",
        "plt.xticks(ticks=[i for i in range(len(model0.loss_list))])\n",
        "plt.xlabel('Epochs')\n",
        "plt.ylabel('Cross entropy loss')\n",
        "plt.title('Loss over time Model 0')\n",
        "plt.legend(loc=\"upper left\")\n",
        "plt.show()\n",
        "\n",
        "plt.plot(model1.loss_list, \"-b\", label=\"Loss\")\n",
        "plt.xticks(ticks=[i for i in range(len(model1.loss_list))])\n",
        "plt.xlabel('Epochs')\n",
        "plt.ylabel('Cross entropy loss')\n",
        "plt.title('Loss over time Model 1')\n",
        "plt.legend(loc=\"upper left\")\n",
        "plt.show()\n",
        "\n",
        "plt.plot(model2.loss_list, \"-b\", label=\"Loss\")\n",
        "plt.xticks(ticks=[i for i in range(len(model2.loss_list))])\n",
        "plt.xlabel('Epochs')\n",
        "plt.ylabel('Cross entropy loss')\n",
        "plt.title('Loss over time Model 2')\n",
        "plt.legend(loc=\"upper left\")\n",
        "plt.show()"
      ],
      "metadata": {
        "colab": {
          "base_uri": "https://localhost:8080/",
          "height": 851
        },
        "id": "Wh_mKY7sP2br",
        "outputId": "99910956-4808-4db0-afcb-488752447d26"
      },
      "execution_count": 123,
      "outputs": [
        {
          "output_type": "display_data",
          "data": {
            "text/plain": [
              "<Figure size 432x288 with 1 Axes>"
            ],
            "image/png": "[encoded data removed]"
          },
          "metadata": {
            "needs_background": "light"
          }
        },
        {
          "output_type": "display_data",
          "data": {
            "text/plain": [
              "<Figure size 432x288 with 1 Axes>"
            ],
            "image/png": "[encoded data removed]"
          },
          "metadata": {
            "needs_background": "light"
          }
        },
        {
          "output_type": "display_data",
          "data": {
            "text/plain": [
              "<Figure size 432x288 with 1 Axes>"
            ],
            "image/png": "[encoded data removed]"
          },
          "metadata": {
            "needs_background": "light"
          }
        }
      ]
    },
    {
      "cell_type": "markdown",
      "source": [
        "## Experiment 2"
      ],
      "metadata": {
        "id": "QlfsOObsXVqw"
      }
    },
    {
      "cell_type": "code",
      "source": [
        "model3 = MLP(layer_num = 2, batch_size = batch_size_global, activation = activation_leaky_ReLU, is_stochastic=True, add_bias=True, max_iters=iterations_global, learning_rate=.01, M=256, l1=0, l2=0, momentum=0, drop=0)\n",
        "model4 = MLP(layer_num = 2, batch_size = batch_size_global, activation = activation_tanh, is_stochastic=True, add_bias=True, max_iters=iterations_global, learning_rate=.01, M=256, l1=0, l2=0, momentum=0, drop=0)"
      ],
      "metadata": {
        "id": "PLSqmOMJXXOC"
      },
      "execution_count": 36,
      "outputs": []
    },
    {
      "cell_type": "code",
      "source": [
        "model3.fit(big_X_norm, big_labels_new)"
      ],
      "metadata": {
        "colab": {
          "base_uri": "https://localhost:8080/"
        },
        "id": "hJAzJa1qYdC5",
        "outputId": "ab2aeee6-661c-4a21-b7e0-2c006e6a9b30"
      },
      "execution_count": 37,
      "outputs": [
        {
          "output_type": "execute_result",
          "data": {
            "text/plain": [
              "<__main__.MLP at 0x7f278f214f70>"
            ]
          },
          "metadata": {},
          "execution_count": 37
        }
      ]
    },
    {
      "cell_type": "code",
      "source": [
        "model4.fit(big_X_norm, big_labels_new)"
      ],
      "metadata": {
        "colab": {
          "base_uri": "https://localhost:8080/"
        },
        "id": "qVl1QE59YelW",
        "outputId": "01e7d844-330c-4d76-c9e1-d1b457d85073"
      },
      "execution_count": 38,
      "outputs": [
        {
          "output_type": "execute_result",
          "data": {
            "text/plain": [
              "<__main__.MLP at 0x7f278f2148b0>"
            ]
          },
          "metadata": {},
          "execution_count": 38
        }
      ]
    },
    {
      "cell_type": "code",
      "source": [
        "pred3 = model3.predict(test_norm)\n",
        "pred4 = model4.predict(test_norm)"
      ],
      "metadata": {
        "id": "u1LmVwPzYgKe"
      },
      "execution_count": 39,
      "outputs": []
    },
    {
      "cell_type": "code",
      "source": [
        "pred3c = getclasses(pred3)\n",
        "pred4c = getclasses(pred4)\n",
        "\n",
        "acc3 = evaluate_acc(pred3c, test_labels)\n",
        "acc4 = evaluate_acc(pred4c, test_labels)\n",
        "\n",
        "print(\"Test Accuracy of 2 layers with M=256, leak ReLU: \", acc3*100, \"%\")\n",
        "print(\"Test Accuracy of 2 layers with M=256, tanh: \", acc4*100, \"%\")"
      ],
      "metadata": {
        "colab": {
          "base_uri": "https://localhost:8080/"
        },
        "id": "EVfF7a6XYinO",
        "outputId": "092c5d66-a36d-4d4f-f617-250f1b75ea5e"
      },
      "execution_count": 128,
      "outputs": [
        {
          "output_type": "stream",
          "name": "stdout",
          "text": [
            "Test Accuracy of 2 layers with M=256, leak ReLU:  53.89000000000001 %\n",
            "Test Accuracy of 2 layers with M=256, tanh:  39.739999999999995 %\n"
          ]
        }
      ]
    },
    {
      "cell_type": "code",
      "source": [
        "plt.plot(model3.loss_list, \"-b\", label=\"Loss\")\n",
        "plt.xticks(ticks=[i for i in range(len(model3.loss_list))])\n",
        "plt.xlabel('Epochs')\n",
        "plt.ylabel('Cross entropy loss')\n",
        "plt.title('Loss over time Model 2, leak ReLU')\n",
        "plt.legend(loc=\"upper left\")\n",
        "plt.show()\n",
        "\n",
        "plt.plot(model4.loss_list, \"-b\", label=\"Loss\")\n",
        "plt.xticks(ticks=[i for i in range(len(model4.loss_list))])\n",
        "plt.xlabel('Epochs')\n",
        "plt.ylabel('Cross entropy loss')\n",
        "plt.title('Loss over time Model 2, tanh')\n",
        "plt.legend(loc=\"upper left\")\n",
        "plt.show()"
      ],
      "metadata": {
        "colab": {
          "base_uri": "https://localhost:8080/",
          "height": 573
        },
        "id": "_qCOLULHYj-I",
        "outputId": "60e7b76a-b4c2-411c-8ead-ad6dd2889885"
      },
      "execution_count": 120,
      "outputs": [
        {
          "output_type": "display_data",
          "data": {
            "text/plain": [
              "<Figure size 432x288 with 1 Axes>"
            ],
            "image/png": "[encoded data removed]"
          },
          "metadata": {
            "needs_background": "light"
          }
        },
        {
          "output_type": "display_data",
          "data": {
            "text/plain": [
              "<Figure size 432x288 with 1 Axes>"
            ],
            "image/png": "[encoded data removed]"
          },
          "metadata": {
            "needs_background": "light"
          }
        }
      ]
    },
    {
      "cell_type": "markdown",
      "source": [
        "## Experiment 3"
      ],
      "metadata": {
        "id": "lPCkontZY2CC"
      }
    },
    {
      "cell_type": "code",
      "source": [
        "model5 = MLP(layer_num = 2, batch_size = batch_size_global, activation = activation_ReLU, is_stochastic=True, add_bias=True, max_iters=iterations_global, learning_rate=.01, M=256, l1=0.01, l2=0, momentum=0, drop=0)\n",
        "model6 = MLP(layer_num = 2, batch_size = batch_size_global, activation = activation_ReLU, is_stochastic=True, add_bias=True, max_iters=iterations_global, learning_rate=.01, M=256, l1=0, l2=0.01, momentum=0, drop=0)"
      ],
      "metadata": {
        "id": "Kqq-IlgAY6sQ"
      },
      "execution_count": 42,
      "outputs": []
    },
    {
      "cell_type": "code",
      "source": [
        "model5.fit(big_X_norm, big_labels_new)"
      ],
      "metadata": {
        "id": "lPDz6NB3ZDtx",
        "colab": {
          "base_uri": "https://localhost:8080/"
        },
        "outputId": "c8e6a8cc-0c66-4abe-b913-827a3f0ab30b"
      },
      "execution_count": 43,
      "outputs": [
        {
          "output_type": "execute_result",
          "data": {
            "text/plain": [
              "<__main__.MLP at 0x7f278f125520>"
            ]
          },
          "metadata": {},
          "execution_count": 43
        }
      ]
    },
    {
      "cell_type": "code",
      "source": [
        "model6.fit(big_X_norm, big_labels_new)"
      ],
      "metadata": {
        "id": "B8N3CvhGZE7J",
        "colab": {
          "base_uri": "https://localhost:8080/"
        },
        "outputId": "f8a6612c-ec7f-439b-d5d8-4e2d251f9979"
      },
      "execution_count": 44,
      "outputs": [
        {
          "output_type": "execute_result",
          "data": {
            "text/plain": [
              "<__main__.MLP at 0x7f278f1254c0>"
            ]
          },
          "metadata": {},
          "execution_count": 44
        }
      ]
    },
    {
      "cell_type": "code",
      "source": [
        "pred5 = model5.predict(test_norm)\n",
        "pred6 = model6.predict(test_norm)"
      ],
      "metadata": {
        "id": "IQBh4gM5ZH4p"
      },
      "execution_count": 45,
      "outputs": []
    },
    {
      "cell_type": "code",
      "source": [
        "pred5c = getclasses(pred5)\n",
        "pred6c = getclasses(pred6)\n",
        "\n",
        "acc5 = evaluate_acc(pred5c, test_labels)\n",
        "acc6 = evaluate_acc(pred6c, test_labels)\n",
        "\n",
        "print(\"Accuracy of 2 layers with M=256, ReLU, L1=0.01: \", acc5*100, \"%\")\n",
        "print(\"Accuracy of 2 layers with M=256, ReLU, L2=0.01: \", acc6*100, \"%\")"
      ],
      "metadata": {
        "id": "vG251zQJZLqt",
        "colab": {
          "base_uri": "https://localhost:8080/"
        },
        "outputId": "4b33afd7-3965-41fa-d9bb-d0aefc233186"
      },
      "execution_count": 129,
      "outputs": [
        {
          "output_type": "stream",
          "name": "stdout",
          "text": [
            "Accuracy of 2 layers with M=256, ReLU, L1=0.01:  41.63 %\n",
            "Accuracy of 2 layers with M=256, ReLU, L2=0.01:  50.14999999999999 %\n"
          ]
        }
      ]
    },
    {
      "cell_type": "code",
      "source": [
        "plt.plot(model5.loss_list, \"-b\", label=\"Loss\")\n",
        "plt.xticks(ticks=[i for i in range(len(model5.loss_list))])\n",
        "plt.xlabel('Epochs')\n",
        "plt.ylabel('Cross entropy loss')\n",
        "plt.title('Loss over time Model 2, L1=0.01')\n",
        "plt.legend(loc=\"upper left\")\n",
        "plt.show()\n",
        "\n",
        "plt.plot(model6.loss_list, \"-b\", label=\"Loss\")\n",
        "plt.xticks(ticks=[i for i in range(len(model6.loss_list))])\n",
        "plt.xlabel('Epochs')\n",
        "plt.ylabel('Cross entropy loss')\n",
        "plt.title('Loss over time Model 2, L2=0.01')\n",
        "plt.legend(loc=\"upper left\")\n",
        "plt.show()"
      ],
      "metadata": {
        "id": "d3Hc7SpmZMx_",
        "colab": {
          "base_uri": "https://localhost:8080/",
          "height": 573
        },
        "outputId": "10f9bafc-2719-4450-929b-ad52bc1c84b5"
      },
      "execution_count": 121,
      "outputs": [
        {
          "output_type": "display_data",
          "data": {
            "text/plain": [
              "<Figure size 432x288 with 1 Axes>"
            ],
            "image/png": "[encoded data removed]"
          },
          "metadata": {
            "needs_background": "light"
          }
        },
        {
          "output_type": "display_data",
          "data": {
            "text/plain": [
              "<Figure size 432x288 with 1 Axes>"
            ],
            "image/png": "[encoded data removed]"
          },
          "metadata": {
            "needs_background": "light"
          }
        }
      ]
    },
    {
      "cell_type": "markdown",
      "source": [
        "## Experiment 4"
      ],
      "metadata": {
        "id": "vW7VQa1GaTcs"
      }
    },
    {
      "cell_type": "code",
      "source": [
        "model7 = MLP(layer_num = 2, batch_size = batch_size_global, activation = activation_ReLU, is_stochastic=True, add_bias=True, max_iters=iterations_global, learning_rate=.01, M=256, l1=0, l2=0, momentum=0, drop=0)"
      ],
      "metadata": {
        "id": "kEziwF-QaYkd"
      },
      "execution_count": 48,
      "outputs": []
    },
    {
      "cell_type": "code",
      "source": [
        "model7.fit(big_X, big_labels_new)"
      ],
      "metadata": {
        "id": "J4W-vdCoaeEp",
        "colab": {
          "base_uri": "https://localhost:8080/"
        },
        "outputId": "65dc3146-4219-48d8-d379-00bd95e4b79a"
      },
      "execution_count": 49,
      "outputs": [
        {
          "output_type": "execute_result",
          "data": {
            "text/plain": [
              "<__main__.MLP at 0x7f278f125be0>"
            ]
          },
          "metadata": {},
          "execution_count": 49
        }
      ]
    },
    {
      "cell_type": "code",
      "source": [
        "pred7 = model7.predict(np_test)"
      ],
      "metadata": {
        "id": "4HdqT-5GapeY"
      },
      "execution_count": 131,
      "outputs": []
    },
    {
      "cell_type": "code",
      "source": [
        "pred7c = getclasses(pred7)\n",
        "\n",
        "acc7 = evaluate_acc(pred7c, test_labels)\n",
        "\n",
        "print(\"Accuracy of 2 layers with M=256, ReLU, data unnormalized: \", acc7*100, \"%\")"
      ],
      "metadata": {
        "id": "HnIYoGd6aq4V",
        "colab": {
          "base_uri": "https://localhost:8080/"
        },
        "outputId": "95717ab0-73bd-4dd3-9293-2e4bc41aa2fe"
      },
      "execution_count": 132,
      "outputs": [
        {
          "output_type": "stream",
          "name": "stdout",
          "text": [
            "Accuracy of 2 layers with M=256, ReLU, data unnormalized:  10.0 %\n"
          ]
        }
      ]
    },
    {
      "cell_type": "code",
      "source": [
        "plt.plot(model7.loss_list, \"-b\", label=\"Loss\")\n",
        "plt.xticks(ticks=[i for i in range(len(model7.loss_list))])\n",
        "plt.xlabel('Epochs')\n",
        "plt.ylabel('Cross entropy loss')\n",
        "plt.title('Loss over time Model 2, data unnormalized')\n",
        "plt.legend(loc=\"upper left\")\n",
        "plt.show()"
      ],
      "metadata": {
        "id": "c3jgzYscarqx",
        "colab": {
          "base_uri": "https://localhost:8080/",
          "height": 295
        },
        "outputId": "273e53d1-053e-42e8-c49f-7adce9c88a8a"
      },
      "execution_count": 122,
      "outputs": [
        {
          "output_type": "display_data",
          "data": {
            "text/plain": [
              "<Figure size 432x288 with 1 Axes>"
            ],
            "image/png": "[encoded data removed]"
          },
          "metadata": {
            "needs_background": "light"
          }
        }
      ]
    },
    {
      "cell_type": "markdown",
      "source": [
        "## Best MLP for comparison with CNNs."
      ],
      "metadata": {
        "id": "9VFfQRccHZnF"
      }
    },
    {
      "cell_type": "code",
      "source": [
        "model_best = MLP(layer_num = 2, batch_size = batch_size_global, activation = activation_ReLU, is_stochastic=True, add_bias=True, max_iters=iterations_global, learning_rate=.01, M=256, l1=0, l2=0, momentum=0, drop=0, acc=True, predic_test=test_norm, truth_test=test_labels, predic_train=big_X_norm, truth_train=big_labels)"
      ],
      "metadata": {
        "id": "70M9KqAkHeJ7"
      },
      "execution_count": 105,
      "outputs": []
    },
    {
      "cell_type": "code",
      "source": [
        "model_best.fit(big_X_norm, big_labels_new)"
      ],
      "metadata": {
        "colab": {
          "base_uri": "https://localhost:8080/"
        },
        "id": "EcdMoRGMH3-Y",
        "outputId": "aad41a5d-09d3-4dd6-ac93-5c7d45d94461"
      },
      "execution_count": 106,
      "outputs": [
        {
          "output_type": "execute_result",
          "data": {
            "text/plain": [
              "<__main__.MLP at 0x7f278c7f17f0>"
            ]
          },
          "metadata": {},
          "execution_count": 106
        }
      ]
    },
    {
      "cell_type": "code",
      "source": [
        "plt.plot(model_best.accuracy_list_test, \"-b\", label=\"Test Accuracy\")\n",
        "plt.plot(model_best.accuracy_list_train, \"-r\", label=\"Train Accuracy\")\n",
        "plt.xticks(ticks=[i for i in range(len(model_best.accuracy_list_test))])\n",
        "plt.xticks(ticks=[i for i in range(len(model_best.accuracy_list_train))])\n",
        "plt.xlabel('Epochs')\n",
        "plt.ylabel('Accuracy %')\n",
        "plt.title('Accuracy per epochs best MLP')\n",
        "plt.legend(loc=\"upper left\")\n",
        "plt.show()"
      ],
      "metadata": {
        "colab": {
          "base_uri": "https://localhost:8080/",
          "height": 295
        },
        "id": "0fdnQjyWH87z",
        "outputId": "d8772112-b0aa-43e0-c4f4-cd25f303b73b"
      },
      "execution_count": 126,
      "outputs": [
        {
          "output_type": "display_data",
          "data": {
            "text/plain": [
              "<Figure size 432x288 with 1 Axes>"
            ],
            "image/png": "[encoded data removed]"
          },
          "metadata": {
            "needs_background": "light"
          }
        }
      ]
    },
    {
      "cell_type": "markdown",
      "source": [
        "## NOTE: EXPERIMENT 5, 6 and 7 are in the other .ipynb file submitted. It contains the CNN implementation. Thank you."
      ],
      "metadata": {
        "id": "Lr1RUKZXle8Y"
      }
    },
    {
      "cell_type": "markdown",
      "source": [
        "## Extra experiments on MLP"
      ],
      "metadata": {
        "id": "MdOLwkKe-tq2"
      }
    },
    {
      "cell_type": "markdown",
      "source": [
        "### Width of MLP performance tests."
      ],
      "metadata": {
        "id": "imbFhKWA7Hnj"
      }
    },
    {
      "cell_type": "code",
      "source": [
        "model32 = MLP(layer_num = 2, batch_size = batch_size_global, activation = activation_ReLU, is_stochastic=True, add_bias=True, max_iters=iterations_global, learning_rate=.01, M=32, l1=0, l2=0, momentum=0, drop=0)\n",
        "model64 = MLP(layer_num = 2, batch_size = batch_size_global, activation = activation_ReLU, is_stochastic=True, add_bias=True, max_iters=iterations_global, learning_rate=.01, M=64, l1=0, l2=0, momentum=0, drop=0)\n",
        "model128 = MLP(layer_num = 2, batch_size = batch_size_global, activation = activation_ReLU, is_stochastic=True, add_bias=True, max_iters=iterations_global, learning_rate=.01, M=128, l1=0, l2=0, momentum=0, drop=0)\n",
        "model512 = MLP(layer_num = 2, batch_size = batch_size_global, activation = activation_ReLU, is_stochastic=True, add_bias=True, max_iters=iterations_global, learning_rate=.01, M=512, l1=0, l2=0, momentum=0, drop=0)\n",
        "model1024 = MLP(layer_num = 2, batch_size = batch_size_global, activation = activation_ReLU, is_stochastic=True, add_bias=True, max_iters=iterations_global, learning_rate=.01, M=1024, l1=0, l2=0, momentum=0, drop=0)"
      ],
      "metadata": {
        "id": "BhX9dwpd_Njj"
      },
      "execution_count": 80,
      "outputs": []
    },
    {
      "cell_type": "code",
      "source": [
        "model32.fit(big_X_norm, big_labels_new)\n",
        "model64.fit(big_X_norm, big_labels_new)\n",
        "model128.fit(big_X_norm, big_labels_new)\n",
        "model512.fit(big_X_norm, big_labels_new)\n",
        "model1024.fit(big_X_norm, big_labels_new)"
      ],
      "metadata": {
        "colab": {
          "base_uri": "https://localhost:8080/"
        },
        "id": "alEpGP02G9xe",
        "outputId": "89301164-ee85-48d6-fcae-0c44b7621580"
      },
      "execution_count": 82,
      "outputs": [
        {
          "output_type": "execute_result",
          "data": {
            "text/plain": [
              "<__main__.MLP at 0x7f278c787370>"
            ]
          },
          "metadata": {},
          "execution_count": 82
        }
      ]
    },
    {
      "cell_type": "code",
      "source": [
        "pred32 = model32.predict(test_norm)\n",
        "pred64 = model64.predict(test_norm)\n",
        "pred128 = model128.predict(test_norm)\n",
        "pred512 = model512.predict(test_norm)\n",
        "pred1024 = model1024.predict(test_norm)"
      ],
      "metadata": {
        "id": "5fBbx-Qu_0FJ"
      },
      "execution_count": 83,
      "outputs": []
    },
    {
      "cell_type": "code",
      "source": [
        "pred32c = getclasses(pred32)\n",
        "pred64c= getclasses(pred64)\n",
        "pred128c = getclasses(pred128)\n",
        "pred512c = getclasses(pred512)\n",
        "pred1024c = getclasses(pred1024)\n",
        "\n",
        "acc32 = evaluate_acc(pred32c, test_labels)\n",
        "acc64 = evaluate_acc(pred64c, test_labels)\n",
        "acc128 = evaluate_acc(pred128c, test_labels)\n",
        "acc512 = evaluate_acc(pred512c, test_labels)\n",
        "acc1024 = evaluate_acc(pred1024c, test_labels)\n",
        "\n",
        "print(\"Accuracy of 2 layers with M=32, ReLU:\", acc32*100, \"%\")\n",
        "print(\"Accuracy of 2 layers with M=64, ReLU:\", acc64*100, \"%\")\n",
        "print(\"Accuracy of 2 layers with M=128, ReLU:\", acc128*100, \"%\")\n",
        "print(\"Accuracy of 2 layers with M=256, ReLU:\", acc2*100, \"%\")\n",
        "print(\"Accuracy of 2 layers with M=512, ReLU:\", acc512*100, \"%\")\n",
        "print(\"Accuracy of 2 layers with M=1024, ReLU:\", acc1024*100, \"%\")"
      ],
      "metadata": {
        "colab": {
          "base_uri": "https://localhost:8080/"
        },
        "id": "0IlL5xBc_qeL",
        "outputId": "4f3c9a65-e681-4c7f-855a-906a24dcde2e"
      },
      "execution_count": 134,
      "outputs": [
        {
          "output_type": "stream",
          "name": "stdout",
          "text": [
            "Accuracy of 2 layers with M=32, ReLU: 48.620000000000005 %\n",
            "Accuracy of 2 layers with M=64, ReLU: 50.62 %\n",
            "Accuracy of 2 layers with M=128, ReLU: 52.790000000000006 %\n",
            "Accuracy of 2 layers with M=256, ReLU: 53.14 %\n",
            "Accuracy of 2 layers with M=512, ReLU: 53.949999999999996 %\n",
            "Accuracy of 2 layers with M=1024, ReLU: 55.64 %\n"
          ]
        }
      ]
    },
    {
      "cell_type": "markdown",
      "source": [
        "### Increasing training data performance test."
      ],
      "metadata": {
        "id": "lEThBWih7Mtq"
      }
    },
    {
      "cell_type": "code",
      "source": [
        "# Test performance with increasing training data size."
      ],
      "metadata": {
        "id": "5M5mkyGkve9Z"
      },
      "execution_count": null,
      "outputs": []
    },
    {
      "cell_type": "code",
      "source": [
        "k_10 = big_X_norm[0:10000]\n",
        "k_20 = big_X_norm[0:20000]\n",
        "k_30 = big_X_norm[0:30000]\n",
        "k_40 = big_X_norm[0:40000]\n",
        "\n",
        "k_10_labels = big_labels[0:10000]\n",
        "k_20_labels = big_labels[0:20000]\n",
        "k_30_labels = big_labels[0:30000]\n",
        "k_40_labels = big_labels[0:40000]\n",
        "\n",
        "k_10_l = label(k_10_labels, 10)\n",
        "k_20_l = label(k_20_labels, 10)\n",
        "k_30_l = label(k_30_labels, 10)\n",
        "k_40_l = label(k_40_labels, 10)"
      ],
      "metadata": {
        "id": "IM7CpaZevtxM"
      },
      "execution_count": 114,
      "outputs": []
    },
    {
      "cell_type": "code",
      "source": [
        "model_10k = MLP(layer_num = 2, batch_size = batch_size_global, activation = activation_ReLU, is_stochastic=True, add_bias=True, max_iters=iterations_global, learning_rate=.01, M=256, l1=0, l2=0, momentum=0, drop=0)\n",
        "model_20k = MLP(layer_num = 2, batch_size = batch_size_global, activation = activation_ReLU, is_stochastic=True, add_bias=True, max_iters=iterations_global, learning_rate=.01, M=256, l1=0, l2=0, momentum=0, drop=0)\n",
        "model_30k = MLP(layer_num = 2, batch_size = batch_size_global, activation = activation_ReLU, is_stochastic=True, add_bias=True, max_iters=iterations_global, learning_rate=.01, M=256, l1=0, l2=0, momentum=0, drop=0)\n",
        "model_40k = MLP(layer_num = 2, batch_size = batch_size_global, activation = activation_ReLU, is_stochastic=True, add_bias=True, max_iters=iterations_global, learning_rate=.01, M=256, l1=0, l2=0, momentum=0, drop=0)"
      ],
      "metadata": {
        "id": "uUYqH2TGw2hz"
      },
      "execution_count": 115,
      "outputs": []
    },
    {
      "cell_type": "code",
      "source": [
        "model_10k.fit(k_10, k_10_l)\n",
        "model_20k.fit(k_20, k_20_l)\n",
        "model_30k.fit(k_30, k_30_l)\n",
        "model_40k.fit(k_40, k_40_l)"
      ],
      "metadata": {
        "colab": {
          "base_uri": "https://localhost:8080/"
        },
        "id": "2nWTNB5exIZc",
        "outputId": "b88807d1-381b-4058-acff-61a3275a7756"
      },
      "execution_count": 116,
      "outputs": [
        {
          "output_type": "execute_result",
          "data": {
            "text/plain": [
              "<__main__.MLP at 0x7f278c40c8b0>"
            ]
          },
          "metadata": {},
          "execution_count": 116
        }
      ]
    },
    {
      "cell_type": "code",
      "source": [
        "pred_10k = model_10k.predict(test_norm)\n",
        "pred_20k = model_20k.predict(test_norm)\n",
        "pred_30k = model_30k.predict(test_norm)\n",
        "pred_40k = model_40k.predict(test_norm)"
      ],
      "metadata": {
        "id": "kP6vvIjuxSce"
      },
      "execution_count": 117,
      "outputs": []
    },
    {
      "cell_type": "code",
      "source": [
        "pred10kc = getclasses(pred_10k)\n",
        "pred20kc= getclasses(pred_20k)\n",
        "pred30kc = getclasses(pred_30k)\n",
        "pred40kc = getclasses(pred_40k)\n",
        "\n",
        "acc10k = evaluate_acc(pred10kc, test_labels)\n",
        "acc20k = evaluate_acc(pred20kc, test_labels)\n",
        "acc30k = evaluate_acc(pred30kc, test_labels)\n",
        "acc40k = evaluate_acc(pred40kc, test_labels)\n",
        "\n",
        "print(\"Accuracy of 2 layers with M=256, ReLU, 10k training:\", acc10k*100, \"%\")\n",
        "print(\"Accuracy of 2 layers with M=256, ReLU, 20k training:\", acc20k*100, \"%\")\n",
        "print(\"Accuracy of 2 layers with M=256, ReLU, 30k training:\", acc30k*100, \"%\")\n",
        "print(\"Accuracy of 2 layers with M=256, ReLU, 40k training:\", acc40k*100, \"%\")\n",
        "print(\"Accuracy of 2 layers with M=256, ReLU, 40k training:\", acc2*100, \"%\")"
      ],
      "metadata": {
        "colab": {
          "base_uri": "https://localhost:8080/"
        },
        "id": "ZgvhB0iUxfCa",
        "outputId": "4e0b6432-2250-4b2e-d758-c8c3a5023397"
      },
      "execution_count": 133,
      "outputs": [
        {
          "output_type": "stream",
          "name": "stdout",
          "text": [
            "Accuracy of 2 layers with M=256, ReLU, 10k training: 45.53 %\n",
            "Accuracy of 2 layers with M=256, ReLU, 20k training: 49.32 %\n",
            "Accuracy of 2 layers with M=256, ReLU, 30k training: 51.17 %\n",
            "Accuracy of 2 layers with M=256, ReLU, 40k training: 52.11 %\n",
            "Accuracy of 2 layers with M=256, ReLU, 40k training: 53.14 %\n"
          ]
        }
      ]
    }
  ]
}