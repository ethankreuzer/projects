{
  "nbformat": 4,
  "nbformat_minor": 0,
  "metadata": {
    "colab": {
      "provenance": []
    },
    "kernelspec": {
      "name": "python3",
      "display_name": "Python 3"
    },
    "language_info": {
      "name": "python"
    }
  },
  "cells": [
    {
      "cell_type": "markdown",
      "source": [
        "# COMP 551 Mini Project 3\n",
        "* Yann Bourdé - 260838140\n",
        "* Marie Ezra Marin - 261053813\n",
        "* Ethan Kreuzer - 261050944"
      ],
      "metadata": {
        "id": "c_jjS3FFHaA8"
      }
    },
    {
      "cell_type": "markdown",
      "source": [
        "# Task 1: Acquire, preprocess, and analyze the data."
      ],
      "metadata": {
        "id": "l3SsiPyIHuRC"
      }
    },
    {
      "cell_type": "code",
      "source": [
        "# Train dataset: \n",
        "#   -12500 bad reviews (score less or equal to 4/10)\n",
        "#   -12500 good reviews (score less or equal to 7/10)\n",
        "\n",
        "# Test dataset: \n",
        "#   -12500 bad reviews (score less or equal to 4/10)\n",
        "#   -12500 good reviews (score less or equal to 7/10)"
      ],
      "metadata": {
        "id": "7-yCmHrKX7sX"
      },
      "execution_count": 1,
      "outputs": []
    },
    {
      "cell_type": "code",
      "execution_count": 2,
      "metadata": {
        "colab": {
          "base_uri": "https://localhost:8080/"
        },
        "id": "PAfGQ9G7WsGh",
        "outputId": "422d851e-496a-42cd-b330-7259f0a329bb"
      },
      "outputs": [
        {
          "output_type": "stream",
          "name": "stdout",
          "text": [
            "Mounted at /content/drive\n"
          ]
        }
      ],
      "source": [
        "import os\n",
        "import pandas as pd\n",
        "import numpy as np\n",
        "import matplotlib.pyplot as plt\n",
        "from skimage import io\n",
        "from sklearn.feature_extraction.text import CountVectorizer\n",
        "from scipy import sparse\n",
        "from sklearn.model_selection import train_test_split\n",
        "from collections import defaultdict\n",
        "import math\n",
        "\n",
        "from google.colab import drive\n",
        "drive.mount('/content/drive')\n",
        "\n",
        "# Please update the path to the csv file according to your own location.\n",
        "# This path also works for the text files. They must be put in separate test/train folders and pos/neg subfolders.\n",
        "path = \"/content/drive/MyDrive/McGill/COMP 551/Mini3/\""
      ]
    },
    {
      "cell_type": "code",
      "source": [
        "# To use the CSV file make which_one = 1.\n",
        "# To use the 50000 text files make which_one = 0.\n",
        "which_one = 1"
      ],
      "metadata": {
        "id": "vSLZy_d0q3Ly"
      },
      "execution_count": 3,
      "outputs": []
    },
    {
      "cell_type": "code",
      "source": [
        "# This package contains a set of typical english words to remove that are not very meaningful. \n",
        "# We are using it to narrow down our feature count.\n",
        "# We also use the tokenizer for white spaces from the package.\n",
        "import nltk\n",
        "nltk.download('stopwords')\n",
        "from nltk.corpus import stopwords\n",
        "words = stopwords.words('english')"
      ],
      "metadata": {
        "colab": {
          "base_uri": "https://localhost:8080/"
        },
        "id": "z3021xOWQKhO",
        "outputId": "1c676ccd-3398-4ca1-d63a-240f4ba62d4e"
      },
      "execution_count": 4,
      "outputs": [
        {
          "output_type": "stream",
          "name": "stderr",
          "text": [
            "[nltk_data] Downloading package stopwords to /root/nltk_data...\n",
            "[nltk_data]   Unzipping corpora/stopwords.zip.\n"
          ]
        }
      ]
    },
    {
      "cell_type": "code",
      "source": [
        "# Function to create the X and y arrays from the 50000 text files. \n",
        "def preprocess(train_test, pos_neg):\n",
        "  full_path = path + train_test + \"/\" + pos_neg + \"/\"\n",
        "  names = []\n",
        "  data = []\n",
        "  for filename in os.listdir(full_path):\n",
        "    names.append(filename)\n",
        "    with open(full_path + filename) as fid:\n",
        "        data.append(fid.readline())\n",
        "  array = np.array(data)\n",
        "  N = len(array)\n",
        "  if pos_neg == \"pos\":\n",
        "    labels = np.ones((N))\n",
        "  elif pos_neg == \"neg\":\n",
        "    labels = np.zeros((N))\n",
        "  return array, labels"
      ],
      "metadata": {
        "id": "yyNZRlVpaVdO"
      },
      "execution_count": 5,
      "outputs": []
    },
    {
      "cell_type": "code",
      "source": [
        "# This implementation is for using the CSV file containing the data. \n",
        "#\n",
        "# Get the train and test data.\n",
        "if which_one == 1:\n",
        "  big_data = pd.read_csv(path + \"IMDB Dataset.csv\")\n",
        "  # Transform positive/negative sentiment labels to 1 and 0.\n",
        "  big_labels = big_data.loc[:,\"sentiment\"].to_numpy()\n",
        "  big_labels = np.where(big_labels == \"positive\", 1, 0)\n",
        "  big_data[\"sentiment\"] = big_labels\n",
        "  # Split test and train data 50/50.\n",
        "  X_train, X_test, y_train, y_test = train_test_split(big_data['review'].values, big_data['sentiment'].values, test_size=0.5, random_state=42)"
      ],
      "metadata": {
        "id": "f32YOdWjZt3W"
      },
      "execution_count": 6,
      "outputs": []
    },
    {
      "cell_type": "code",
      "source": [
        "# This implementation is for using the 50000 text files containing the data. \n",
        "#\n",
        "# Get the train and test data.\n",
        "if which_one == 0:\n",
        "  X_pos, y_pos = preprocess('train', 'pos')\n",
        "  X_neg, y_neg = preprocess('train', 'neg')\n",
        "  X_train = np.concatenate((X_pos, X_neg), axis=0)\n",
        "  y_train = np.concatenate((y_pos, y_neg), axis=0)\n",
        "  X_pos, y_pos =  preprocess('test', 'pos')\n",
        "  X_neg, y_neg =  preprocess('test', 'neg')\n",
        "  X_test = np.concatenate((X_pos, X_neg), axis=0)\n",
        "  y_test = np.concatenate((y_pos, y_neg), axis=0)"
      ],
      "metadata": {
        "id": "z4fbZ4-OaoPJ"
      },
      "execution_count": 7,
      "outputs": []
    },
    {
      "cell_type": "code",
      "source": [
        "def get_vector(X, feature_number):\n",
        "  # Use CountVectorizer to get features with frequency.\n",
        "  vector = CountVectorizer(stop_words=words, token_pattern=\"[^\\W\\d_]+\", strip_accents='unicode', max_features=feature_number)\n",
        "  X_t = vector.fit_transform(X, y=None)\n",
        "  # Get the list of features and return X_train as an array.\n",
        "  features = vector.get_feature_names_out()\n",
        "  X_t = X_t.toarray()\n",
        "  return X_t, features"
      ],
      "metadata": {
        "id": "EoEWLfI_avjU"
      },
      "execution_count": 8,
      "outputs": []
    },
    {
      "cell_type": "code",
      "source": [
        "# Use dictionnary to count the instances of each word for positive or negative reviews.\n",
        "def get_feature_count(X, y, features):\n",
        "  # Initiate dict.\n",
        "  feature_cnt = {}\n",
        "  for i in range(2):\n",
        "    feature_cnt[i] = defaultdict(lambda: 0)\n",
        "\n",
        "  for j in range(X.shape[0]):\n",
        "    # Positive/negative.\n",
        "    i = y[j]\n",
        "    # Add the instance's feature frequencies to the features counts.\n",
        "    for k in range(len(features)):\n",
        "      feature_cnt[i][features[k]] += X[j][k]\n",
        "  return feature_cnt"
      ],
      "metadata": {
        "id": "HqwiFTnpU2q_"
      },
      "execution_count": 9,
      "outputs": []
    },
    {
      "cell_type": "code",
      "source": [
        "def evaluate_acc(truth, pred):\n",
        "  cnt = 0\n",
        "  for i in range(len(pred)):\n",
        "    if pred[i] == truth[i]:\n",
        "      cnt = cnt + 1\n",
        "  acc = cnt/len(pred)\n",
        "  return acc"
      ],
      "metadata": {
        "id": "72mLhBPRrT2L"
      },
      "execution_count": 10,
      "outputs": []
    },
    {
      "cell_type": "markdown",
      "source": [
        "# Task 2: Implement Naive Bayes and BERT models."
      ],
      "metadata": {
        "id": "6mMcoyH_YhXK"
      }
    },
    {
      "cell_type": "markdown",
      "source": [
        "## Naive Bayes Implementation."
      ],
      "metadata": {
        "id": "NwdBfGQ7Yqng"
      }
    },
    {
      "cell_type": "code",
      "source": [
        "class NaiveBayes:\n",
        "    def __init__(self):\n",
        "      self.pos_count = 0\n",
        "      self.neg_count = 0\n",
        "      self.log_pos_prior = 0\n",
        "      self.log_neg_prior = 0\n",
        "      pass\n",
        "    \n",
        "    def fit(self, X, y):\n",
        "      N, D = X.shape\n",
        "      # Count number of positive and negative instances.\n",
        "      for i in y:\n",
        "        if i == 1:\n",
        "           self.pos_count += 1\n",
        "        elif i == 0:\n",
        "          self.neg_count += 1\n",
        "      # Calculate the log_prior for pos/neg.\n",
        "      self.log_pos_prior =  math.log(self.pos_count / N)\n",
        "      self.log_neg_prior =  math.log(self.neg_count / N)\n",
        "      return self\n",
        "\n",
        "    def predict(self, X, features, feature_count):\n",
        "      y_pred = []\n",
        "      for i in X:\n",
        "        # Set up probabilities for pos/neg.\n",
        "        pos_prob = self.log_pos_prior\n",
        "        neg_prob = self.log_neg_prior\n",
        "        text_words = i.split()\n",
        "        # Go through each word in the instance and compute the probabilities for pos/neg.\n",
        "        for j in text_words:\n",
        "          if j not in features:\n",
        "            continue\n",
        "          for l in range(2):\n",
        "            # Laplace smoothing.\n",
        "            a = feature_count[l][j] + 1\n",
        "            # Add prob for pos/neg.\n",
        "            if l == 1:\n",
        "              b = self.pos_count + len(features)\n",
        "              log_prob = math.log(a/b)\n",
        "              pos_prob += log_prob\n",
        "            elif l == 0:\n",
        "              b = self.neg_count + len(features)\n",
        "              log_prob = math.log(a/b)\n",
        "              neg_prob += log_prob   \n",
        "        # Return 1 or 0 based on larger probability between pos/neg.\n",
        "        if pos_prob >= neg_prob:\n",
        "          y_pred.append(1)\n",
        "        elif pos_prob < neg_prob:\n",
        "          y_pred.append(0)\n",
        "      return y_pred"
      ],
      "metadata": {
        "id": "5bXW4sQJltIB"
      },
      "execution_count": 11,
      "outputs": []
    },
    {
      "cell_type": "markdown",
      "source": [
        "## Accuracy using 1000 features."
      ],
      "metadata": {
        "id": "ZJ7DBSWbHKYr"
      }
    },
    {
      "cell_type": "code",
      "source": [
        "X_train_vec, features_train = get_vector(X_train, 1000)\n",
        "feature_count = get_feature_count(X_train_vec, y_train, features_train)"
      ],
      "metadata": {
        "id": "I2Vr3CsPBv_r"
      },
      "execution_count": 12,
      "outputs": []
    },
    {
      "cell_type": "code",
      "source": [
        "model = NaiveBayes()\n",
        "model.fit(X_train_vec, y_train)\n",
        "pred = model.predict(X_test, features_train, feature_count)"
      ],
      "metadata": {
        "id": "yOYEnGsfuZSw"
      },
      "execution_count": 13,
      "outputs": []
    },
    {
      "cell_type": "code",
      "source": [
        "acc = evaluate_acc(y_test, pred)\n",
        "print(\"Accuracy of prediction on test set : \", acc*100)"
      ],
      "metadata": {
        "colab": {
          "base_uri": "https://localhost:8080/"
        },
        "id": "wRj73l_oPku1",
        "outputId": "0a97e948-a01e-4e03-af54-d9fa44064875"
      },
      "execution_count": 14,
      "outputs": [
        {
          "output_type": "stream",
          "name": "stdout",
          "text": [
            "Accuracy of prediction on test set :  80.71199999999999\n"
          ]
        }
      ]
    },
    {
      "cell_type": "markdown",
      "source": [
        "# Other experiments"
      ],
      "metadata": {
        "id": "PMVY4aPDHGk1"
      }
    },
    {
      "cell_type": "code",
      "source": [
        "numbers = [250, 500, 750, 1000, 2000, 3000, 4000, 5000, 6000, 7000, 8000, 9000]\n",
        "acc_list = []\n",
        "for i in numbers:\n",
        "  v, f = get_vector(X_train, i)\n",
        "  f_c = get_feature_count(v, y_train, f)\n",
        "  model = NaiveBayes()\n",
        "  model.fit(v, y_train)\n",
        "  p = model.predict(X_test, f, f_c)\n",
        "  acc = evaluate_acc(y_test, p)*100\n",
        "  acc_list.append(acc)"
      ],
      "metadata": {
        "id": "ZtUZuonQJYPc"
      },
      "execution_count": 15,
      "outputs": []
    },
    {
      "cell_type": "code",
      "source": [
        "print(acc_list)"
      ],
      "metadata": {
        "id": "sg3yvZGSJc0p",
        "colab": {
          "base_uri": "https://localhost:8080/"
        },
        "outputId": "304aebe9-c1d7-44bd-b6fc-1d484ae13975"
      },
      "execution_count": 16,
      "outputs": [
        {
          "metadata": {
            "tags": null
          },
          "name": "stdout",
          "output_type": "stream",
          "text": [
            "[73.432, 78.104, 79.644, 80.71199999999999, 82.464, 83.328, 83.524, 83.7, 83.748, 83.916, 84.0, 84.012]\n"
          ]
        }
      ]
    },
    {
      "cell_type": "code",
      "source": [
        "plt.plot(numbers, acc_list)\n",
        "plt.xlabel(\"Number of featues\")\n",
        "plt.ylabel(\"Accuracy\")\n",
        "plt.title(\"Naive Bayes performance with varying number of features\")"
      ],
      "metadata": {
        "colab": {
          "base_uri": "https://localhost:8080/",
          "height": 489
        },
        "id": "pRlLNI3ELv9v",
        "outputId": "f33d3445-215b-4777-f2bc-de9089c07fd1"
      },
      "execution_count": 17,
      "outputs": [
        {
          "output_type": "execute_result",
          "data": {
            "text/plain": [
              "Text(0.5, 1.0, 'Naive Bayes performance with varying number of features')"
            ]
          },
          "metadata": {},
          "execution_count": 17
        },
        {
          "output_type": "display_data",
          "data": {
            "text/plain": [
              "<Figure size 640x480 with 1 Axes>"
            ],
            "image/png": "[encoded data removed]"
          },
          "metadata": {}
        }
      ]
    }
  ]
}