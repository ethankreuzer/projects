{
  "nbformat": 4,
  "nbformat_minor": 0,
  "metadata": {
    "colab": {
      "provenance": [],
      "authorship_tag": "ABX9TyPOsl5aPJtL7hlaSjOiZnMB",
      "include_colab_link": true
    },
    "kernelspec": {
      "name": "python3",
      "display_name": "Python 3"
    },
    "language_info": {
      "name": "python"
    }
  },
  "cells": [
    {
      "cell_type": "markdown",
      "metadata": {
        "id": "view-in-github",
        "colab_type": "text"
      },
      "source": [
        "<a href=\"https://colab.research.google.com/github/ethankreuzer/projects/blob/main/MATH308_A3_Q5.ipynb\" target=\"_parent\"><img src=\"https://colab.research.google.com/assets/colab-badge.svg\" alt=\"Open In Colab\"/></a>"
      ]
    },
    {
      "cell_type": "code",
      "execution_count": 1,
      "metadata": {
        "id": "g9gA2wk-AfId"
      },
      "outputs": [],
      "source": [
        "import pandas as pd\n",
        "import numpy as np\n",
        "from scipy.spatial.distance import cdist\n",
        "from sklearn.metrics.pairwise import euclidean_distances\n",
        "from sklearn.cluster import KMeans"
      ]
    },
    {
      "cell_type": "code",
      "source": [
        "songs_df = pd.read_csv('songs.csv')"
      ],
      "metadata": {
        "id": "dB3vcH6FA3iw"
      },
      "execution_count": 2,
      "outputs": []
    },
    {
      "cell_type": "code",
      "source": [
        "# Extracting features (assuming columns 1 to 9 are features)\n",
        "features = songs_df.values\n",
        "\n",
        "# Calculating Euclidean distances\n",
        "distances = euclidean_distances(features)\n",
        "\n",
        "# Generating adjacency matrix based on distances\n",
        "adjacency_matrix = np.where(distances < 1, 1, 0)\n"
      ],
      "metadata": {
        "id": "V2UcSWb5DyfC"
      },
      "execution_count": 3,
      "outputs": []
    },
    {
      "cell_type": "code",
      "source": [
        "def cluster_songs(adjacency_matrix):\n",
        "    # Compute degree matrix D\n",
        "    degree_matrix = np.diag(np.sum(adjacency_matrix, axis=1))\n",
        "\n",
        "    # Compute normalized Laplacian L_normalized\n",
        "    laplacian_matrix = degree_matrix - adjacency_matrix\n",
        "    D_sqrt_inv = np.linalg.inv(np.sqrt(degree_matrix))\n",
        "    normalized_laplacian = np.dot(np.dot(D_sqrt_inv, laplacian_matrix), D_sqrt_inv)\n",
        "\n",
        "    # Compute eigenvectors and eigenvalues of L_normalized\n",
        "    eigenvalues, eigenvectors = np.linalg.eigh(normalized_laplacian)\n",
        "\n",
        "    # Second smallest eigenvalue and corresponding eigenvector\n",
        "    second_smallest_eigenvalue = eigenvalues[1]\n",
        "    second_smallest_eigenvector = eigenvectors[:, 1]\n",
        "\n",
        "    # Compute x = D^(-1/2) * v\n",
        "    x = np.dot(D_sqrt_inv, second_smallest_eigenvector)\n",
        "\n",
        "    # Cluster x using the indicator function\n",
        "    clusters = np.where(x >= 0, 1, 2)\n",
        "\n",
        "    return clusters\n",
        "\n",
        "clusters = cluster_songs(adjacency_matrix)\n",
        "\n",
        "print(\"Clusters of first 5 songs:\", clusters[0:5])\n"
      ],
      "metadata": {
        "colab": {
          "base_uri": "https://localhost:8080/"
        },
        "id": "ENt9c0DzD9pw",
        "outputId": "e1265c5a-1af7-4b1c-979c-2d47959d773e"
      },
      "execution_count": 4,
      "outputs": [
        {
          "output_type": "stream",
          "name": "stdout",
          "text": [
            "Clusters of first 5 songs: [2 1 2 2 1]\n"
          ]
        }
      ]
    },
    {
      "cell_type": "code",
      "source": [
        "def calculate_mean_difference(features, clusters):\n",
        "    # Calculate mean feature values for each cluster\n",
        "    cluster_means = {}\n",
        "    for cluster_id in np.unique(clusters):\n",
        "        cluster_means[cluster_id] = np.mean(features[clusters == cluster_id], axis=0)\n",
        "\n",
        "    # Calculate the difference between the mean feature values of the two clusters\n",
        "    mean_difference = cluster_means[1] - cluster_means[2]\n",
        "\n",
        "    return mean_difference\n",
        "\n",
        "\n",
        "# Calculate the mean difference of each feature between the two clusters\n",
        "mean_difference = calculate_mean_difference(features, clusters)\n",
        "\n",
        "# Find the top 3 features with the highest absolute mean difference\n",
        "top_features_indices = np.argsort(np.abs(mean_difference))[::-1][:3]\n",
        "top_features = top_features_indices  # Adding 1 to get feature indices (assuming features start from 1)\n",
        "\n",
        "print(\"Top 3 features with the highest absolute mean difference:\")\n",
        "for feature_index in top_features:\n",
        "    print(\"Feature\", songs_df.columns[feature_index])\n"
      ],
      "metadata": {
        "colab": {
          "base_uri": "https://localhost:8080/"
        },
        "id": "RBmfOvp7Ko6v",
        "outputId": "a873a31f-ec80-4b42-d032-d02583e0b826"
      },
      "execution_count": 5,
      "outputs": [
        {
          "output_type": "stream",
          "name": "stdout",
          "text": [
            "Top 3 features with the highest absolute mean difference:\n",
            "Feature energy\n",
            "Feature danceability\n",
            "Feature pitches\n"
          ]
        }
      ]
    },
    {
      "cell_type": "code",
      "source": [
        "print(mean_difference)"
      ],
      "metadata": {
        "colab": {
          "base_uri": "https://localhost:8080/"
        },
        "id": "81l4u5BzUN7R",
        "outputId": "3fa51eda-59da-4358-dde2-c952c9fb279b"
      },
      "execution_count": null,
      "outputs": [
        {
          "output_type": "stream",
          "name": "stdout",
          "text": [
            "[ 0.00139952  0.00588542 -0.02280919 -0.02044281 -0.02550022  0.6555892\n",
            " -0.03411942 -0.01463438  0.01366864  0.0753245 ]\n"
          ]
        }
      ]
    },
    {
      "cell_type": "markdown",
      "source": [
        "Looking at these features, the lagest difference in mean was by far \"energy\", with the second being \"danceability\", but by much less than \"energy\". It is very likely that this clustering is distinguishing being pop/hip-hop songs and other songs, as these types of songs are usually high energy and \"catchy\" type songs people usually dance to."
      ],
      "metadata": {
        "id": "beQUGKFHUFed"
      }
    }
  ]
}